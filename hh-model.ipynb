{
 "cells": [
  {
   "cell_type": "code",
   "execution_count": 3,
   "metadata": {
    "collapsed": true
   },
   "outputs": [],
   "source": [
    "%matplotlib inline"
   ]
  },
  {
   "cell_type": "code",
   "execution_count": 4,
   "metadata": {
    "collapsed": true
   },
   "outputs": [],
   "source": [
    "import numpy as np\n",
    "import matplotlib.pyplot as plt"
   ]
  },
  {
   "cell_type": "code",
   "execution_count": 5,
   "metadata": {
    "collapsed": true
   },
   "outputs": [],
   "source": [
    "def alpha_n(u):\n",
    "\n",
    "    return (0.1 - 0.01 * u)/(np.exp(1.0 - 0.1 * u) - 1.0)\n",
    "\n",
    "def beta_n(u):\n",
    "    \n",
    "    return 0.125*np.exp(- u/80.0)\n",
    "\n",
    "def alpha_m(u):\n",
    "    \n",
    "    return (2.5 - 0.1 * u)/(np.exp(2.5 - 0.1 * u) - 1.0)\n",
    "\n",
    "def beta_m(u):\n",
    "    \n",
    "    return 4.0*np.exp(-u/18.0)\n",
    "\n",
    "def alpha_h(u):\n",
    "    \n",
    "    return 0.07*np.exp(-u/20.0)\n",
    "\n",
    "def beta_h(u):\n",
    "    \n",
    "    return 1.0/(np.exp(3.0 - 0.1*u) + 1)"
   ]
  },
  {
   "cell_type": "code",
   "execution_count": 6,
   "metadata": {
    "collapsed": true
   },
   "outputs": [],
   "source": [
    "def dndt(u, n):\n",
    "    \n",
    "    return alpha_n(u) * ( 1-n ) - beta_n(u) * n\n",
    "\n",
    "def dmdt(u, m):\n",
    "\n",
    "    return alpha_m(u)*( 1-m ) - beta_m(u) * m \n",
    "    \n",
    "\n",
    "def dhdt(u, h):\n",
    "    \n",
    "    return alpha_h(u) * ( 1 - h ) - beta_h(u) * h\n"
   ]
  },
  {
   "cell_type": "code",
   "execution_count": 7,
   "metadata": {
    "collapsed": true
   },
   "outputs": [],
   "source": [
    "def dudt(u, m, n, h):\n",
    "    \n",
    "    gNa = 120.0\n",
    "    gK = 36.0\n",
    "    gL = 0.3 \n",
    "    \n",
    "    ENa = 115.0*10**(-3)\n",
    "    EK = -12.0*10**(-3)\n",
    "    EL = -10.6*10**(-3)\n",
    "    \n",
    "    return -( gNa*m**3 * h * ( u - ENa ) + gK*n**4 * ( u - EK ) + gL*( u - EL )  )"
   ]
  },
  {
   "cell_type": "code",
   "execution_count": 96,
   "metadata": {
    "collapsed": false
   },
   "outputs": [],
   "source": [
    "range = 200000\n",
    "u = np.zeros(range + 1)\n",
    "input = np.concatenate( (np.zeros(range/2), 100*np.ones(range/2+2)))\n",
    "m = np.zeros(range + 1)\n",
    "n = np.zeros(range + 1)\n",
    "h = np.zeros(range + 1)"
   ]
  },
  {
   "cell_type": "code",
   "execution_count": 99,
   "metadata": {
    "collapsed": true
   },
   "outputs": [],
   "source": [
    "# External current\n",
    "def I_inj(t): # step up 10 uA/cm^2 every 100ms for 400ms\n",
    "    return 10*(t>100) - 10*(t>200) + 35*(t>300)\n",
    "    #return 10*t"
   ]
  },
  {
   "cell_type": "code",
   "execution_count": 97,
   "metadata": {
    "collapsed": false
   },
   "outputs": [],
   "source": [
    "t_index = 0\n",
    "t_step = 0.001\n",
    "t_range = np.arange(range)\n",
    "\n",
    "for t_index in t_range:\n",
    "\n",
    "    # calculate m, n, h\n",
    "    m[t_index + 1]  = m[t_index] + dmdt(u[t_index], m[t_index]) * t_step\n",
    "    n[t_index + 1]  = n[t_index] + dndt(u[t_index], n[t_index]) * t_step\n",
    "    h[t_index + 1]  = h[t_index] + dhdt(u[t_index], h[t_index]) * t_step\n",
    "    \n",
    "    u[t_index + 1] = u[t_index] + dudt(u[t_index], m[t_index + 1], n[t_index + 1], h[t_index + 1] ) * t_step + input[t_index] * t_step\n",
    "    \n",
    "    t_index = t_index + 1\n",
    "    "
   ]
  },
  {
   "cell_type": "code",
   "execution_count": 98,
   "metadata": {
    "collapsed": false
   },
   "outputs": [
    {
     "data": {
      "image/png": "[encoded data removed]",
      "text/plain": [
       "<matplotlib.figure.Figure at 0x108ed0590>"
      ]
     },
     "metadata": {},
     "output_type": "display_data"
    }
   ],
   "source": [
    "plt.plot(u)\n",
    "plt.show()"
   ]
  },
  {
   "cell_type": "code",
   "execution_count": null,
   "metadata": {
    "collapsed": true
   },
   "outputs": [],
   "source": []
  },
  {
   "cell_type": "code",
   "execution_count": 92,
   "metadata": {
    "collapsed": false
   },
   "outputs": [
    {
     "data": {
      "text/plain": [
       "array([   1,    2,    3,   23, 2321])"
      ]
     },
     "execution_count": 92,
     "metadata": {},
     "output_type": "execute_result"
    }
   ],
   "source": [
    "np.concatenate(([1,2,3],[23,2321]))"
   ]
  },
  {
   "cell_type": "code",
   "execution_count": null,
   "metadata": {
    "collapsed": true
   },
   "outputs": [],
   "source": []
  }
 ],
 "metadata": {
  "kernelspec": {
   "display_name": "Python 2",
   "language": "python",
   "name": "python2"
  },
  "language_info": {
   "codemirror_mode": {
    "name": "ipython",
    "version": 2
   },
   "file_extension": ".py",
   "mimetype": "text/x-python",
   "name": "python",
   "nbconvert_exporter": "python",
   "pygments_lexer": "ipython2",
   "version": "2.7.10"
  }
 },
 "nbformat": 4,
 "nbformat_minor": 0
}
